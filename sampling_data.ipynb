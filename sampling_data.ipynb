{
 "cells": [
  {
   "cell_type": "code",
   "execution_count": 1,
   "metadata": {},
   "outputs": [],
   "source": [
    "import csv\n",
    "import random\n",
    "filename = 'NPM.csv'\n",
    "out_name = 'NPM_sample.csv'"
   ]
  },
  {
   "cell_type": "code",
   "execution_count": 2,
   "metadata": {},
   "outputs": [],
   "source": [
    "with open(filename, newline='') as csvfile :\n",
    "    reader = csv.reader(csvfile, delimiter=',', quotechar='|')\n",
    "    data = []\n",
    "    for row in reader :\n",
    "        data.append(row)\n",
    "    new_data = random.sample(data[1:], 500)\n",
    "    with open(out_name, 'w') as fw :\n",
    "        fw.write(','.join(data[0]))\n",
    "        for i in new_data :\n",
    "            fw.write('\\n' + ','.join([str(j) for j in i]))"
   ]
  },
  {
   "cell_type": "code",
   "execution_count": null,
   "metadata": {},
   "outputs": [],
   "source": []
  }
 ],
 "metadata": {
  "kernelspec": {
   "display_name": "Python 3",
   "language": "python",
   "name": "python3"
  },
  "language_info": {
   "codemirror_mode": {
    "name": "ipython",
    "version": 3
   },
   "file_extension": ".py",
   "mimetype": "text/x-python",
   "name": "python",
   "nbconvert_exporter": "python",
   "pygments_lexer": "ipython3",
   "version": "3.6.5"
  }
 },
 "nbformat": 4,
 "nbformat_minor": 2
}
